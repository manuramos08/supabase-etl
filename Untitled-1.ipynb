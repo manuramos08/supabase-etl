{
 "cells": [
  {
   "cell_type": "code",
   "execution_count": 1,
   "id": "2c430285",
   "metadata": {},
   "outputs": [],
   "source": [
    "from supabase import create_client, Client\n",
    "import os"
   ]
  },
  {
   "cell_type": "code",
   "execution_count": 6,
   "id": "5d0badae",
   "metadata": {},
   "outputs": [
    {
     "ename": "TypeError",
     "evalue": "Client.__init__() got an unexpected keyword argument 'proxy'",
     "output_type": "error",
     "traceback": [
      "\u001b[31m---------------------------------------------------------------------------\u001b[39m",
      "\u001b[31mTypeError\u001b[39m                                 Traceback (most recent call last)",
      "\u001b[36mCell\u001b[39m\u001b[36m \u001b[39m\u001b[32mIn[6]\u001b[39m\u001b[32m, line 4\u001b[39m\n\u001b[32m      1\u001b[39m url = os.getenv(\u001b[33m\"\u001b[39m\u001b[33mSUPABASE_URL\u001b[39m\u001b[33m\"\u001b[39m)\n\u001b[32m      2\u001b[39m key = os.getenv(\u001b[33m\"\u001b[39m\u001b[33mSUPABASE_KEY\u001b[39m\u001b[33m\"\u001b[39m)\n\u001b[32m----> \u001b[39m\u001b[32m4\u001b[39m supabase: Client = \u001b[43mcreate_client\u001b[49m\u001b[43m(\u001b[49m\u001b[43murl\u001b[49m\u001b[43m,\u001b[49m\u001b[43m \u001b[49m\u001b[43mkey\u001b[49m\u001b[43m)\u001b[49m\n",
      "\u001b[36mFile \u001b[39m\u001b[32mc:\\Users\\manur\\AppData\\Local\\Programs\\Python\\Python313\\Lib\\site-packages\\supabase\\_sync\\client.py:305\u001b[39m, in \u001b[36mcreate_client\u001b[39m\u001b[34m(supabase_url, supabase_key, options)\u001b[39m\n\u001b[32m    274\u001b[39m \u001b[38;5;28;01mdef\u001b[39;00m\u001b[38;5;250m \u001b[39m\u001b[34mcreate_client\u001b[39m(\n\u001b[32m    275\u001b[39m     supabase_url: \u001b[38;5;28mstr\u001b[39m,\n\u001b[32m    276\u001b[39m     supabase_key: \u001b[38;5;28mstr\u001b[39m,\n\u001b[32m    277\u001b[39m     options: ClientOptions = ClientOptions(storage=SyncMemoryStorage()),\n\u001b[32m    278\u001b[39m ) -> SyncClient:\n\u001b[32m    279\u001b[39m \u001b[38;5;250m    \u001b[39m\u001b[33;03m\"\"\"Create client function to instantiate supabase client like JS runtime.\u001b[39;00m\n\u001b[32m    280\u001b[39m \n\u001b[32m    281\u001b[39m \u001b[33;03m    Parameters\u001b[39;00m\n\u001b[32m   (...)\u001b[39m\u001b[32m    303\u001b[39m \u001b[33;03m    Client\u001b[39;00m\n\u001b[32m    304\u001b[39m \u001b[33;03m    \"\"\"\u001b[39;00m\n\u001b[32m--> \u001b[39m\u001b[32m305\u001b[39m     \u001b[38;5;28;01mreturn\u001b[39;00m \u001b[43mSyncClient\u001b[49m\u001b[43m.\u001b[49m\u001b[43mcreate\u001b[49m\u001b[43m(\u001b[49m\n\u001b[32m    306\u001b[39m \u001b[43m        \u001b[49m\u001b[43msupabase_url\u001b[49m\u001b[43m=\u001b[49m\u001b[43msupabase_url\u001b[49m\u001b[43m,\u001b[49m\u001b[43m \u001b[49m\u001b[43msupabase_key\u001b[49m\u001b[43m=\u001b[49m\u001b[43msupabase_key\u001b[49m\u001b[43m,\u001b[49m\u001b[43m \u001b[49m\u001b[43moptions\u001b[49m\u001b[43m=\u001b[49m\u001b[43moptions\u001b[49m\n\u001b[32m    307\u001b[39m \u001b[43m    \u001b[49m\u001b[43m)\u001b[49m\n",
      "\u001b[36mFile \u001b[39m\u001b[32mc:\\Users\\manur\\AppData\\Local\\Programs\\Python\\Python313\\Lib\\site-packages\\supabase\\_sync\\client.py:98\u001b[39m, in \u001b[36mSyncClient.create\u001b[39m\u001b[34m(cls, supabase_url, supabase_key, options)\u001b[39m\n\u001b[32m     91\u001b[39m \u001b[38;5;129m@classmethod\u001b[39m\n\u001b[32m     92\u001b[39m \u001b[38;5;28;01mdef\u001b[39;00m\u001b[38;5;250m \u001b[39m\u001b[34mcreate\u001b[39m(\n\u001b[32m     93\u001b[39m     \u001b[38;5;28mcls\u001b[39m,\n\u001b[32m   (...)\u001b[39m\u001b[32m     96\u001b[39m     options: ClientOptions = ClientOptions(),\n\u001b[32m     97\u001b[39m ):\n\u001b[32m---> \u001b[39m\u001b[32m98\u001b[39m     client = \u001b[38;5;28;43mcls\u001b[39;49m\u001b[43m(\u001b[49m\u001b[43msupabase_url\u001b[49m\u001b[43m,\u001b[49m\u001b[43m \u001b[49m\u001b[43msupabase_key\u001b[49m\u001b[43m,\u001b[49m\u001b[43m \u001b[49m\u001b[43moptions\u001b[49m\u001b[43m)\u001b[49m\n\u001b[32m     99\u001b[39m     client._auth_token = client._get_token_header()\n\u001b[32m    100\u001b[39m     \u001b[38;5;28;01mreturn\u001b[39;00m client\n",
      "\u001b[36mFile \u001b[39m\u001b[32mc:\\Users\\manur\\AppData\\Local\\Programs\\Python\\Python313\\Lib\\site-packages\\supabase\\_sync\\client.py:76\u001b[39m, in \u001b[36mSyncClient.__init__\u001b[39m\u001b[34m(self, supabase_url, supabase_key, options)\u001b[39m\n\u001b[32m     73\u001b[39m \u001b[38;5;28mself\u001b[39m.schema = options.schema\n\u001b[32m     75\u001b[39m \u001b[38;5;66;03m# Instantiate clients.\u001b[39;00m\n\u001b[32m---> \u001b[39m\u001b[32m76\u001b[39m \u001b[38;5;28mself\u001b[39m.auth = \u001b[38;5;28;43mself\u001b[39;49m\u001b[43m.\u001b[49m\u001b[43m_init_supabase_auth_client\u001b[49m\u001b[43m(\u001b[49m\n\u001b[32m     77\u001b[39m \u001b[43m    \u001b[49m\u001b[43mauth_url\u001b[49m\u001b[43m=\u001b[49m\u001b[38;5;28;43mself\u001b[39;49m\u001b[43m.\u001b[49m\u001b[43mauth_url\u001b[49m\u001b[43m,\u001b[49m\n\u001b[32m     78\u001b[39m \u001b[43m    \u001b[49m\u001b[43mclient_options\u001b[49m\u001b[43m=\u001b[49m\u001b[43moptions\u001b[49m\u001b[43m,\u001b[49m\n\u001b[32m     79\u001b[39m \u001b[43m\u001b[49m\u001b[43m)\u001b[49m\n\u001b[32m     80\u001b[39m \u001b[38;5;66;03m# TODO: Bring up to parity with JS client.\u001b[39;00m\n\u001b[32m     81\u001b[39m \u001b[38;5;66;03m# self.realtime: SupabaseRealtimeClient = self._init_realtime_client(\u001b[39;00m\n\u001b[32m     82\u001b[39m \u001b[38;5;66;03m#     realtime_url=self.realtime_url,\u001b[39;00m\n\u001b[32m     83\u001b[39m \u001b[38;5;66;03m#     supabase_key=self.supabase_key,\u001b[39;00m\n\u001b[32m     84\u001b[39m \u001b[38;5;66;03m# )\u001b[39;00m\n\u001b[32m     85\u001b[39m \u001b[38;5;28mself\u001b[39m.realtime = \u001b[38;5;28;01mNone\u001b[39;00m\n",
      "\u001b[36mFile \u001b[39m\u001b[32mc:\\Users\\manur\\AppData\\Local\\Programs\\Python\\Python313\\Lib\\site-packages\\supabase\\_sync\\client.py:218\u001b[39m, in \u001b[36mSyncClient._init_supabase_auth_client\u001b[39m\u001b[34m(auth_url, client_options)\u001b[39m\n\u001b[32m    212\u001b[39m \u001b[38;5;129m@staticmethod\u001b[39m\n\u001b[32m    213\u001b[39m \u001b[38;5;28;01mdef\u001b[39;00m\u001b[38;5;250m \u001b[39m\u001b[34m_init_supabase_auth_client\u001b[39m(\n\u001b[32m    214\u001b[39m     auth_url: \u001b[38;5;28mstr\u001b[39m,\n\u001b[32m    215\u001b[39m     client_options: ClientOptions,\n\u001b[32m    216\u001b[39m ) -> SyncSupabaseAuthClient:\n\u001b[32m    217\u001b[39m \u001b[38;5;250m    \u001b[39m\u001b[33;03m\"\"\"Creates a wrapped instance of the GoTrue Client.\"\"\"\u001b[39;00m\n\u001b[32m--> \u001b[39m\u001b[32m218\u001b[39m     \u001b[38;5;28;01mreturn\u001b[39;00m \u001b[43mSyncSupabaseAuthClient\u001b[49m\u001b[43m(\u001b[49m\n\u001b[32m    219\u001b[39m \u001b[43m        \u001b[49m\u001b[43murl\u001b[49m\u001b[43m=\u001b[49m\u001b[43mauth_url\u001b[49m\u001b[43m,\u001b[49m\n\u001b[32m    220\u001b[39m \u001b[43m        \u001b[49m\u001b[43mauto_refresh_token\u001b[49m\u001b[43m=\u001b[49m\u001b[43mclient_options\u001b[49m\u001b[43m.\u001b[49m\u001b[43mauto_refresh_token\u001b[49m\u001b[43m,\u001b[49m\n\u001b[32m    221\u001b[39m \u001b[43m        \u001b[49m\u001b[43mpersist_session\u001b[49m\u001b[43m=\u001b[49m\u001b[43mclient_options\u001b[49m\u001b[43m.\u001b[49m\u001b[43mpersist_session\u001b[49m\u001b[43m,\u001b[49m\n\u001b[32m    222\u001b[39m \u001b[43m        \u001b[49m\u001b[43mstorage\u001b[49m\u001b[43m=\u001b[49m\u001b[43mclient_options\u001b[49m\u001b[43m.\u001b[49m\u001b[43mstorage\u001b[49m\u001b[43m,\u001b[49m\n\u001b[32m    223\u001b[39m \u001b[43m        \u001b[49m\u001b[43mheaders\u001b[49m\u001b[43m=\u001b[49m\u001b[43mclient_options\u001b[49m\u001b[43m.\u001b[49m\u001b[43mheaders\u001b[49m\u001b[43m,\u001b[49m\n\u001b[32m    224\u001b[39m \u001b[43m        \u001b[49m\u001b[43mflow_type\u001b[49m\u001b[43m=\u001b[49m\u001b[43mclient_options\u001b[49m\u001b[43m.\u001b[49m\u001b[43mflow_type\u001b[49m\u001b[43m,\u001b[49m\n\u001b[32m    225\u001b[39m \u001b[43m    \u001b[49m\u001b[43m)\u001b[49m\n",
      "\u001b[36mFile \u001b[39m\u001b[32mc:\\Users\\manur\\AppData\\Local\\Programs\\Python\\Python313\\Lib\\site-packages\\supabase\\_sync\\auth_client.py:31\u001b[39m, in \u001b[36mSyncSupabaseAuthClient.__init__\u001b[39m\u001b[34m(self, url, headers, storage_key, auto_refresh_token, persist_session, storage, http_client, flow_type)\u001b[39m\n\u001b[32m     28\u001b[39m \u001b[38;5;28;01mif\u001b[39;00m headers \u001b[38;5;129;01mis\u001b[39;00m \u001b[38;5;28;01mNone\u001b[39;00m:\n\u001b[32m     29\u001b[39m     headers = {}\n\u001b[32m---> \u001b[39m\u001b[32m31\u001b[39m \u001b[43mSyncGoTrueClient\u001b[49m\u001b[43m.\u001b[49m\u001b[34;43m__init__\u001b[39;49m\u001b[43m(\u001b[49m\n\u001b[32m     32\u001b[39m \u001b[43m    \u001b[49m\u001b[38;5;28;43mself\u001b[39;49m\u001b[43m,\u001b[49m\n\u001b[32m     33\u001b[39m \u001b[43m    \u001b[49m\u001b[43murl\u001b[49m\u001b[43m=\u001b[49m\u001b[43murl\u001b[49m\u001b[43m,\u001b[49m\n\u001b[32m     34\u001b[39m \u001b[43m    \u001b[49m\u001b[43mheaders\u001b[49m\u001b[43m=\u001b[49m\u001b[43mheaders\u001b[49m\u001b[43m,\u001b[49m\n\u001b[32m     35\u001b[39m \u001b[43m    \u001b[49m\u001b[43mstorage_key\u001b[49m\u001b[43m=\u001b[49m\u001b[43mstorage_key\u001b[49m\u001b[43m,\u001b[49m\n\u001b[32m     36\u001b[39m \u001b[43m    \u001b[49m\u001b[43mauto_refresh_token\u001b[49m\u001b[43m=\u001b[49m\u001b[43mauto_refresh_token\u001b[49m\u001b[43m,\u001b[49m\n\u001b[32m     37\u001b[39m \u001b[43m    \u001b[49m\u001b[43mpersist_session\u001b[49m\u001b[43m=\u001b[49m\u001b[43mpersist_session\u001b[49m\u001b[43m,\u001b[49m\n\u001b[32m     38\u001b[39m \u001b[43m    \u001b[49m\u001b[43mstorage\u001b[49m\u001b[43m=\u001b[49m\u001b[43mstorage\u001b[49m\u001b[43m,\u001b[49m\n\u001b[32m     39\u001b[39m \u001b[43m    \u001b[49m\u001b[43mhttp_client\u001b[49m\u001b[43m=\u001b[49m\u001b[43mhttp_client\u001b[49m\u001b[43m,\u001b[49m\n\u001b[32m     40\u001b[39m \u001b[43m    \u001b[49m\u001b[43mflow_type\u001b[49m\u001b[43m=\u001b[49m\u001b[43mflow_type\u001b[49m\u001b[43m,\u001b[49m\n\u001b[32m     41\u001b[39m \u001b[43m\u001b[49m\u001b[43m)\u001b[49m\n",
      "\u001b[36mFile \u001b[39m\u001b[32mc:\\Users\\manur\\AppData\\Local\\Programs\\Python\\Python313\\Lib\\site-packages\\gotrue\\_sync\\gotrue_client.py:101\u001b[39m, in \u001b[36mSyncGoTrueClient.__init__\u001b[39m\u001b[34m(self, url, headers, storage_key, auto_refresh_token, persist_session, storage, http_client, flow_type, verify, proxy)\u001b[39m\n\u001b[32m     87\u001b[39m \u001b[38;5;28;01mdef\u001b[39;00m\u001b[38;5;250m \u001b[39m\u001b[34m__init__\u001b[39m(\n\u001b[32m     88\u001b[39m     \u001b[38;5;28mself\u001b[39m,\n\u001b[32m     89\u001b[39m     *,\n\u001b[32m   (...)\u001b[39m\u001b[32m     99\u001b[39m     proxy: Optional[\u001b[38;5;28mstr\u001b[39m] = \u001b[38;5;28;01mNone\u001b[39;00m,\n\u001b[32m    100\u001b[39m ) -> \u001b[38;5;28;01mNone\u001b[39;00m:\n\u001b[32m--> \u001b[39m\u001b[32m101\u001b[39m     \u001b[43mSyncGoTrueBaseAPI\u001b[49m\u001b[43m.\u001b[49m\u001b[34;43m__init__\u001b[39;49m\u001b[43m(\u001b[49m\n\u001b[32m    102\u001b[39m \u001b[43m        \u001b[49m\u001b[38;5;28;43mself\u001b[39;49m\u001b[43m,\u001b[49m\n\u001b[32m    103\u001b[39m \u001b[43m        \u001b[49m\u001b[43murl\u001b[49m\u001b[43m=\u001b[49m\u001b[43murl\u001b[49m\u001b[43m \u001b[49m\u001b[38;5;129;43;01mor\u001b[39;49;00m\u001b[43m \u001b[49m\u001b[43mGOTRUE_URL\u001b[49m\u001b[43m,\u001b[49m\n\u001b[32m    104\u001b[39m \u001b[43m        \u001b[49m\u001b[43mheaders\u001b[49m\u001b[43m=\u001b[49m\u001b[43mheaders\u001b[49m\u001b[43m \u001b[49m\u001b[38;5;129;43;01mor\u001b[39;49;00m\u001b[43m \u001b[49m\u001b[43mDEFAULT_HEADERS\u001b[49m\u001b[43m,\u001b[49m\n\u001b[32m    105\u001b[39m \u001b[43m        \u001b[49m\u001b[43mhttp_client\u001b[49m\u001b[43m=\u001b[49m\u001b[43mhttp_client\u001b[49m\u001b[43m,\u001b[49m\n\u001b[32m    106\u001b[39m \u001b[43m        \u001b[49m\u001b[43mverify\u001b[49m\u001b[43m=\u001b[49m\u001b[43mverify\u001b[49m\u001b[43m,\u001b[49m\n\u001b[32m    107\u001b[39m \u001b[43m        \u001b[49m\u001b[43mproxy\u001b[49m\u001b[43m=\u001b[49m\u001b[43mproxy\u001b[49m\u001b[43m,\u001b[49m\n\u001b[32m    108\u001b[39m \u001b[43m    \u001b[49m\u001b[43m)\u001b[49m\n\u001b[32m    109\u001b[39m     \u001b[38;5;28mself\u001b[39m._storage_key = storage_key \u001b[38;5;129;01mor\u001b[39;00m STORAGE_KEY\n\u001b[32m    110\u001b[39m     \u001b[38;5;28mself\u001b[39m._auto_refresh_token = auto_refresh_token\n",
      "\u001b[36mFile \u001b[39m\u001b[32mc:\\Users\\manur\\AppData\\Local\\Programs\\Python\\Python313\\Lib\\site-packages\\gotrue\\_sync\\gotrue_base_api.py:28\u001b[39m, in \u001b[36mSyncGoTrueBaseAPI.__init__\u001b[39m\u001b[34m(self, url, headers, http_client, verify, proxy)\u001b[39m\n\u001b[32m     26\u001b[39m \u001b[38;5;28mself\u001b[39m._url = url\n\u001b[32m     27\u001b[39m \u001b[38;5;28mself\u001b[39m._headers = headers\n\u001b[32m---> \u001b[39m\u001b[32m28\u001b[39m \u001b[38;5;28mself\u001b[39m._http_client = http_client \u001b[38;5;129;01mor\u001b[39;00m \u001b[43mSyncClient\u001b[49m\u001b[43m(\u001b[49m\n\u001b[32m     29\u001b[39m \u001b[43m    \u001b[49m\u001b[43mverify\u001b[49m\u001b[43m=\u001b[49m\u001b[38;5;28;43mbool\u001b[39;49m\u001b[43m(\u001b[49m\u001b[43mverify\u001b[49m\u001b[43m)\u001b[49m\u001b[43m,\u001b[49m\n\u001b[32m     30\u001b[39m \u001b[43m    \u001b[49m\u001b[43mproxy\u001b[49m\u001b[43m=\u001b[49m\u001b[43mproxy\u001b[49m\u001b[43m,\u001b[49m\n\u001b[32m     31\u001b[39m \u001b[43m    \u001b[49m\u001b[43mfollow_redirects\u001b[49m\u001b[43m=\u001b[49m\u001b[38;5;28;43;01mTrue\u001b[39;49;00m\u001b[43m,\u001b[49m\n\u001b[32m     32\u001b[39m \u001b[43m    \u001b[49m\u001b[43mhttp2\u001b[49m\u001b[43m=\u001b[49m\u001b[38;5;28;43;01mTrue\u001b[39;49;00m\u001b[43m,\u001b[49m\n\u001b[32m     33\u001b[39m \u001b[43m\u001b[49m\u001b[43m)\u001b[49m\n",
      "\u001b[31mTypeError\u001b[39m: Client.__init__() got an unexpected keyword argument 'proxy'"
     ]
    }
   ],
   "source": [
    "url = os.getenv(\"SUPABASE_URL\")\n",
    "key = os.getenv(\"SUPABASE_KEY\")\n",
    "\n",
    "supabase: Client = create_client(url, key)"
   ]
  },
  {
   "cell_type": "code",
   "execution_count": null,
   "id": "fcc07a14",
   "metadata": {},
   "outputs": [],
   "source": []
  }
 ],
 "metadata": {
  "kernelspec": {
   "display_name": "Python 3",
   "language": "python",
   "name": "python3"
  },
  "language_info": {
   "codemirror_mode": {
    "name": "ipython",
    "version": 3
   },
   "file_extension": ".py",
   "mimetype": "text/x-python",
   "name": "python",
   "nbconvert_exporter": "python",
   "pygments_lexer": "ipython3",
   "version": "3.13.5"
  }
 },
 "nbformat": 4,
 "nbformat_minor": 5
}
