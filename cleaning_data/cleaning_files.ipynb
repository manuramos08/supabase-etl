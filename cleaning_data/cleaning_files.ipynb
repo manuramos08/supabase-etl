{
 "cells": [
  {
   "cell_type": "code",
   "execution_count": 149,
   "id": "74744be1",
   "metadata": {},
   "outputs": [],
   "source": [
    "import pandas as pd\n",
    "import numpy as np\n",
    "import datetime as dt\n",
    "import logging\n",
    "from copy import deepcopy\n",
    "from pathlib import Path\n",
    "from logging_setup import log_step\n",
    "from logging_setup import make_logger\n",
    "import geopandas as gpd\n",
    "from shapely import to_wkt  \n",
    "from shapely.validation import explain_validity "
   ]
  },
  {
   "cell_type": "code",
   "execution_count": null,
   "id": "5ce828c1",
   "metadata": {},
   "outputs": [],
   "source": [
    "gdf_n  = gpd.read_file(r\"D:\\Docs\\Práctica pipeline\\data\\raw\\airbnb\\neighbourhoods.geojson\", encoding='UTF-8')\n"
   ]
  },
  {
   "cell_type": "code",
   "execution_count": 151,
   "id": "812b0231",
   "metadata": {},
   "outputs": [],
   "source": [
    "gdf_n = gdf_n.drop(columns=['neighbourhood_group'])"
   ]
  },
  {
   "cell_type": "code",
   "execution_count": 152,
   "id": "018e142f",
   "metadata": {},
   "outputs": [],
   "source": [
    "gdf_n['neighbourhood'] = gdf_n['neighbourhood'].str.replace(' ', '_').str.replace('.', '')"
   ]
  },
  {
   "cell_type": "code",
   "execution_count": 153,
   "id": "5134d014",
   "metadata": {},
   "outputs": [],
   "source": [
    "gdf_n = gdf_n.sort_values(\"neighbourhood\")"
   ]
  },
  {
   "cell_type": "code",
   "execution_count": 159,
   "id": "b1e23e51",
   "metadata": {},
   "outputs": [
    {
     "data": {
      "text/plain": [
       "np.int64(0)"
      ]
     },
     "execution_count": 159,
     "metadata": {},
     "output_type": "execute_result"
    }
   ],
   "source": [
    "gdf_n['neighbourhood'].isin(df_n['neighbourhood'] == False).sum()"
   ]
  }
 ],
 "metadata": {
  "kernelspec": {
   "display_name": "Python 3",
   "language": "python",
   "name": "python3"
  },
  "language_info": {
   "codemirror_mode": {
    "name": "ipython",
    "version": 3
   },
   "file_extension": ".py",
   "mimetype": "text/x-python",
   "name": "python",
   "nbconvert_exporter": "python",
   "pygments_lexer": "ipython3",
   "version": "3.13.1"
  }
 },
 "nbformat": 4,
 "nbformat_minor": 5
}
